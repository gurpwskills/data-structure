{
  "nbformat": 4,
  "nbformat_minor": 0,
  "metadata": {
    "colab": {
      "provenance": []
    },
    "kernelspec": {
      "name": "python3",
      "display_name": "Python 3"
    },
    "language_info": {
      "name": "python"
    }
  },
  "cells": [
    {
      "cell_type": "markdown",
      "source": [
        "Data types and structures questions\n",
        "\n",
        "1. what are the data structures, and why are they important?         \n",
        " :data structures are specialised formats for optimizing, storing, and managing data ina way that enables efficiant access and modification. for examples lists, tuples, dictionaries, and sets in pyhon. they are important because they optimize the performance of algorithms, allow for better data retrival, and help manage complexcity in programind tasks. choosing  the right data structure can significantly impact the efficiency and readibility of code.\n",
        "\n",
        "2. Explain the difference between mutable and immutable data types with examples?         \n",
        ": mutable data types can be change after creation. Ex- lists ([1, 2, 3]) and dictionaries ({\"key\"; \"value\"}). you can modifytheir content.\n",
        " Immutable data types cannot be changed and created. for ex- tuples((1, 2, 3)) and strings (\"hello\"). eery modifications can creates a new objects.\n",
        "\n",
        "3. what are the main differences between lists and tuples?        \n",
        ": lists are mutable, use [], and are slower; tuples are immutable, use(), and are faster.\n",
        "\n",
        "4. describe how dictionaries store data?       \n",
        ": dictionaries store data as key-value pairs using a hash table for quick lookups (e.g.,{\"name\":\"Alice\"}).      \n",
        "\n",
        "5. why might you use a set instead of a list in python.      \n",
        ": use sets when you need to store a collection of unique items and perform operations related to membership and set theory. Use lists when the order of elements is important and you may need to store duplicate values.\n",
        "\n",
        "6. what is a string and its differences from a lists.      \n",
        ": a string is an immutable character sequence (e.g.,\"hello\");unlike a list, its characters cannot be modified.\n",
        "\n",
        "7. how do tuples ensure data integrity in python?         \n",
        ": tuple ensure data integrity  by being immutable, preventing changes after creation.\n",
        "\n",
        "8. what is a hash table,and how does it relate to dictionaries in python.      \n",
        ":Imagine a library with many books. Instead of searching through every book to find the one you need, you use a catalog (hash table) that assigns each book a unique number (hash code) and tells you where it's located on the shelves (buckets). Dictionaries in Python work similarly, using hash tables to efficiently store and retrieve data.\n",
        "\n",
        "9. can lists can contain different data types.     \n",
        ": yes, lists can contain different data types (e.g., [1, \"hello\",3.14]).\n",
        "\n",
        "10. explain why strings are immutable in python.       \n",
        ": strings are immutable for eeficiancy, safety, and thread-safety, creating new objects for modifications.\n",
        "\n",
        "11. what are advantages of dictionaries offer over lists for certain tasks.      \n",
        ": dictionaries offer 0(1) key-based access , ideal for mappings, unlike lists'o(n) search.\n",
        "\n",
        "12. describe a scenerio where a tuple is preferable over a list.        \n",
        ": tuple preferable for fixed data like coordinates (x, y) to prevvent changes.\n",
        "\n",
        "13. how do sets handle duplicate valuesin python.      \n",
        ": in python the sets handle a duplicates storing only a unique values (e.g.,{1, 2, 2} becomes {1, 2}).         \n",
        "\n",
        "14. how does the \"in\" keyword differently from lists and dictionaries.        \n",
        ": \"in\" checks list elements (O(n)); checks dictionary keys (0(1)).\n",
        "\n",
        "15. can you modify the elements of tuple? explain why or why not.       \n",
        ": no, it cannot modified because the elements of tuples are immutable. this design choice prevents accidental changes, ensures data integrity, and allows tuples to be used as keys in dictionaries or elements in set.\n",
        "\n",
        "16. what is a nested dictionary, and give an example of its use case?         \n",
        ": a nested dictionary is a dictionary. for example: {\"person\": {\"name\": \"alice\", \"age\": 25}}.use case: storing hierarchical data, like a student's details within a class roster.\n",
        "\n",
        "17. describe the time complexity of accessing elements in a dictionary.           \n",
        ": accessing elements in adictionary has an average time complexity of O(1) due to the hash table implementation . however, it can degrade to O(n), though pythons hash function is designed to minimize this.\n",
        "\n",
        "18. in what situations are lists are preffered over dictionaries?         \n",
        ": lists are preferred when the order of elements matters, when you need to store a sequence of items without key-value associations, or when you frequently need to iterate over elements in a specific order. they are also simpler for homogeneos data.\n",
        "\n",
        "19. why are dictionaries considered unordered, and how does that affect data retrieval?         \n",
        ": dictionaries are considered unordered because their elements are stored based on hash values, noy a fixed sequence. this affects data retrieval by making it independent of order-access is by key, not index-resulting in fast O(1) lookups but requiring keys to be hashable.\n",
        "\n",
        "20. explain the difference between a list and a dictionary in terms of data retrieval.        \n",
        ": List: data retrieal is by indexs (e.g.,list[O], with O(1) for index access but O(n) for searching. order is preffered.\n",
        "  Dictionary: data retrieal is by key (e.g.,dict[\"key\"]), with O(1) average time complexity. order is not guaranteed (though python 3.7+ preseres insertion order), and keys must be unique.\n"
      ],
      "metadata": {
        "id": "tlfKHVL4QT_S"
      }
    },
    {
      "cell_type": "markdown",
      "source": [
        " Practical questions\n",
        "\n",
        " 1. write a code to create a string with your name and print it.     \n",
        " : name= \"gursevak\""
      ],
      "metadata": {
        "id": "lwo2sUaKglBI"
      }
    },
    {
      "cell_type": "code",
      "source": [
        "name = \"gursevak\"\n",
        "print(name)"
      ],
      "metadata": {
        "colab": {
          "base_uri": "https://localhost:8080/"
        },
        "id": "8UKQFST0XpRe",
        "outputId": "614cdb08-7eb1-4087-e2b1-b16102f9797a"
      },
      "execution_count": 1,
      "outputs": [
        {
          "output_type": "stream",
          "name": "stdout",
          "text": [
            "gursevak\n"
          ]
        }
      ]
    },
    {
      "cell_type": "markdown",
      "source": [
        "2. write a code to find the length of string \"hello world\".     \n",
        ": print(length)"
      ],
      "metadata": {
        "id": "VmXWHd1gQRa-"
      }
    },
    {
      "cell_type": "code",
      "source": [
        "text=\"hello world\"\n",
        "length=len(text)\n",
        "print(length)"
      ],
      "metadata": {
        "colab": {
          "base_uri": "https://localhost:8080/"
        },
        "id": "P0ypCndJYSuw",
        "outputId": "fb7f5b26-382b-451b-f97c-b0a8a10eed20"
      },
      "execution_count": 2,
      "outputs": [
        {
          "output_type": "stream",
          "name": "stdout",
          "text": [
            "11\n"
          ]
        }
      ]
    },
    {
      "cell_type": "markdown",
      "source": [
        "3. write a code to slice the first 3 characters from the string \"python programming\".       \n",
        ":print(sliced_text)"
      ],
      "metadata": {
        "id": "q7nkjjY6YPl2"
      }
    },
    {
      "cell_type": "code",
      "source": [
        "text=\"python programming\"\n",
        "sliced_text=text[0:3]\n",
        "print(sliced_text)"
      ],
      "metadata": {
        "colab": {
          "base_uri": "https://localhost:8080/"
        },
        "id": "nZCYhvSgZrQS",
        "outputId": "d1823835-b95f-4076-c56d-253a202f0d27"
      },
      "execution_count": 3,
      "outputs": [
        {
          "output_type": "stream",
          "name": "stdout",
          "text": [
            "pyt\n"
          ]
        }
      ]
    },
    {
      "cell_type": "markdown",
      "source": [
        "4. write a code to convert the string \"hello\" to uppercase.      \n",
        ": print(upper_text)"
      ],
      "metadata": {
        "id": "fjfObjQRaMQ8"
      }
    },
    {
      "cell_type": "code",
      "source": [
        "text=\"hello\"\n",
        "upper_text=text.upper()\n",
        "print(upper_text)"
      ],
      "metadata": {
        "colab": {
          "base_uri": "https://localhost:8080/"
        },
        "id": "kutR1Ljhapcm",
        "outputId": "a711bdd0-4639-4a02-d5e2-3b1c1adc3437"
      },
      "execution_count": 4,
      "outputs": [
        {
          "output_type": "stream",
          "name": "stdout",
          "text": [
            "HELLO\n"
          ]
        }
      ]
    },
    {
      "cell_type": "markdown",
      "source": [
        "5. write a code to replace the word \"apple\" with \"orange\" in the string \"i like apple\".       \n",
        ": print(new_text)"
      ],
      "metadata": {
        "id": "eyzHfWxAa2_e"
      }
    },
    {
      "cell_type": "code",
      "source": [
        "text=\"i like apple\"\n",
        "new_text=text.replace(\"apple\",\"orange\")\n",
        "print(new_text)"
      ],
      "metadata": {
        "colab": {
          "base_uri": "https://localhost:8080/"
        },
        "id": "81YgJuKybp8V",
        "outputId": "0f7ca878-5a7f-435e-9bc8-7f209bee1480"
      },
      "execution_count": 5,
      "outputs": [
        {
          "output_type": "stream",
          "name": "stdout",
          "text": [
            "i like orange\n"
          ]
        }
      ]
    },
    {
      "cell_type": "markdown",
      "source": [
        "6. write a code to create a list with numbers 1 to 5 and print it.      \n",
        ": print(numbers)"
      ],
      "metadata": {
        "id": "knhjJ9Apb90v"
      }
    },
    {
      "cell_type": "code",
      "source": [
        "numbers = [1, 2, 3, 4, 5]\n",
        "print(numbers)"
      ],
      "metadata": {
        "colab": {
          "base_uri": "https://localhost:8080/"
        },
        "id": "Bm5WwI7tckSh",
        "outputId": "9b71bc1a-efb6-4e65-cbc6-2d1d4a30330c"
      },
      "execution_count": 6,
      "outputs": [
        {
          "output_type": "stream",
          "name": "stdout",
          "text": [
            "[1, 2, 3, 4, 5]\n"
          ]
        }
      ]
    },
    {
      "cell_type": "markdown",
      "source": [
        "7. write a code to append the number 10 to the list [1, 2, 3, 4].      \n",
        ": print(numbers)"
      ],
      "metadata": {
        "id": "BjAJpWracpc-"
      }
    },
    {
      "cell_type": "code",
      "source": [
        "numbers=[1, 2, 3, 4]\n",
        "numbers.append(10)\n",
        "print(numbers)"
      ],
      "metadata": {
        "colab": {
          "base_uri": "https://localhost:8080/"
        },
        "id": "JOqq1mkZdGuG",
        "outputId": "a7c5baee-d511-41a8-b12b-22ebe201da5e"
      },
      "execution_count": 7,
      "outputs": [
        {
          "output_type": "stream",
          "name": "stdout",
          "text": [
            "[1, 2, 3, 4, 10]\n"
          ]
        }
      ]
    },
    {
      "cell_type": "markdown",
      "source": [
        "8. write a code to remove the number 3 from the list [1, 2, 3, 4, 5].     \n",
        ": print(numbers)"
      ],
      "metadata": {
        "id": "0uReUt-Odakf"
      }
    },
    {
      "cell_type": "code",
      "source": [
        "numbers=[1, 2, 3, 4, 5]\n",
        "numbers.remove(3)\n",
        "print(numbers)"
      ],
      "metadata": {
        "colab": {
          "base_uri": "https://localhost:8080/"
        },
        "id": "xbvDkdRZdwyI",
        "outputId": "117d0b19-09c8-4941-dc5d-47480597410a"
      },
      "execution_count": 9,
      "outputs": [
        {
          "output_type": "stream",
          "name": "stdout",
          "text": [
            "[1, 2, 4, 5]\n"
          ]
        }
      ]
    },
    {
      "cell_type": "markdown",
      "source": [
        "9. write a code to access the second element in the list ['a', 'b', 'c', 'd',].        \n",
        ": print(second_element)"
      ],
      "metadata": {
        "id": "jYUgD37aeEQT"
      }
    },
    {
      "cell_type": "code",
      "source": [
        "letters=['a', 'b', 'c', 'd']\n",
        "second_element=letters[1]\n",
        "print(second_element)"
      ],
      "metadata": {
        "colab": {
          "base_uri": "https://localhost:8080/"
        },
        "id": "WjpRIoUJejr_",
        "outputId": "a647d515-937a-47b8-a5d8-c1097cee28dd"
      },
      "execution_count": 10,
      "outputs": [
        {
          "output_type": "stream",
          "name": "stdout",
          "text": [
            "b\n"
          ]
        }
      ]
    },
    {
      "cell_type": "markdown",
      "source": [
        "10. write a code to reverse teh list [10, 20, 30, 40, 50].     \n",
        ": same in the code section."
      ],
      "metadata": {
        "id": "9hIcmkEPep7N"
      }
    },
    {
      "cell_type": "code",
      "source": [
        "numbers=[10, 20, 30, 40, 50]\n",
        "numbers.reverse()\n",
        "print(numbers)\n"
      ],
      "metadata": {
        "colab": {
          "base_uri": "https://localhost:8080/"
        },
        "id": "3NccH5Z9e8G6",
        "outputId": "12bea14a-b91c-43f7-f1ac-51c15633522e"
      },
      "execution_count": 11,
      "outputs": [
        {
          "output_type": "stream",
          "name": "stdout",
          "text": [
            "[50, 40, 30, 20, 10]\n"
          ]
        }
      ]
    },
    {
      "cell_type": "markdown",
      "source": [
        "11. write a code to create a tuple with the elements 100, 200, 300 and print it.         \n",
        ": in the code section\n"
      ],
      "metadata": {
        "id": "zRAnUFU9fUq7"
      }
    },
    {
      "cell_type": "code",
      "source": [
        "my_tuple=(100, 200, 300)\n",
        "print(my_tuple)"
      ],
      "metadata": {
        "colab": {
          "base_uri": "https://localhost:8080/"
        },
        "id": "L54Ww3Zpfqdq",
        "outputId": "7033ec49-ae13-496b-9810-05c0d0bbac4f"
      },
      "execution_count": 12,
      "outputs": [
        {
          "output_type": "stream",
          "name": "stdout",
          "text": [
            "(100, 200, 300)\n"
          ]
        }
      ]
    },
    {
      "cell_type": "markdown",
      "source": [
        " 12. write a code to access the second-to-last elements of the tuple ('red', 'green', 'blue', 'yellow').       \n",
        " : in the code section."
      ],
      "metadata": {
        "id": "RwHPLN72fxy-"
      }
    },
    {
      "cell_type": "code",
      "source": [
        "my_tuple = ('red', 'green', 'blue', 'yellow')\n",
        "second_to_last_element = my_tuple[-2]\n",
        "print(second_to_last_element)"
      ],
      "metadata": {
        "colab": {
          "base_uri": "https://localhost:8080/"
        },
        "id": "hBYVn34gilhw",
        "outputId": "4b08496e-3da1-4c7d-8217-25d4e37d6993"
      },
      "execution_count": 13,
      "outputs": [
        {
          "output_type": "stream",
          "name": "stdout",
          "text": [
            "blue\n"
          ]
        }
      ]
    },
    {
      "cell_type": "markdown",
      "source": [
        "13. write a code to find the minimum number in the tuple (10, 20, 5, 15).       \n",
        ": bellow this.\n"
      ],
      "metadata": {
        "id": "ylhzOnmgi1aO"
      }
    },
    {
      "cell_type": "code",
      "source": [
        "my_tuple=(10, 20, 5, 15)\n",
        "minimum=min(my_tuple)\n",
        "print(minimum)"
      ],
      "metadata": {
        "colab": {
          "base_uri": "https://localhost:8080/"
        },
        "id": "U9XvQ9xVjMZk",
        "outputId": "4799815f-0bc9-4473-8e34-a8271a283ef5"
      },
      "execution_count": 14,
      "outputs": [
        {
          "output_type": "stream",
          "name": "stdout",
          "text": [
            "5\n"
          ]
        }
      ]
    },
    {
      "cell_type": "markdown",
      "source": [
        "14. write a code to find the index of the element 'cat' in the tuple ('dog', 'cat', 'rabbit').        \n",
        ": in the code section."
      ],
      "metadata": {
        "id": "RgmWsELujeyd"
      }
    },
    {
      "cell_type": "code",
      "source": [
        "my_tuple=('dog', 'cat', 'rabbit')\n",
        "index=my_tuple.index('cat')\n",
        "print(index)\n"
      ],
      "metadata": {
        "colab": {
          "base_uri": "https://localhost:8080/"
        },
        "id": "BJzkJAThkLJS",
        "outputId": "fc2da9a0-48e7-4990-a442-4961c9726d7c"
      },
      "execution_count": 15,
      "outputs": [
        {
          "output_type": "stream",
          "name": "stdout",
          "text": [
            "1\n"
          ]
        }
      ]
    },
    {
      "cell_type": "markdown",
      "source": [
        "15. write a code to cfeate a tuple containing three different fruits and check if 'kiwi' is in it.       \n",
        ":  "
      ],
      "metadata": {
        "id": "YXafi-LEkVdE"
      }
    },
    {
      "cell_type": "code",
      "source": [
        "my_tuple=('apple', 'banana', 'orange')\n",
        "is_kiwi_in_tuple = 'kiwi' in my_tuple\n",
        "print(is_kiwi_in_tuple)"
      ],
      "metadata": {
        "colab": {
          "base_uri": "https://localhost:8080/"
        },
        "id": "aWyaEbLNlAel",
        "outputId": "78346ce6-401e-4994-af56-8591a7c7fe14"
      },
      "execution_count": 16,
      "outputs": [
        {
          "output_type": "stream",
          "name": "stdout",
          "text": [
            "False\n"
          ]
        }
      ]
    },
    {
      "cell_type": "markdown",
      "source": [
        "16. write a code to create a set with the elements 'a', 'b', 'c' and print it.       \n",
        ": in the code below from this."
      ],
      "metadata": {
        "id": "p_FwByWilOjZ"
      }
    },
    {
      "cell_type": "code",
      "source": [
        "my_set={'a', 'b', 'c'}\n",
        "print(my_set)"
      ],
      "metadata": {
        "colab": {
          "base_uri": "https://localhost:8080/"
        },
        "id": "9btwJaeulyIf",
        "outputId": "060b5637-d142-45b2-c7e3-0d49995ea847"
      },
      "execution_count": 17,
      "outputs": [
        {
          "output_type": "stream",
          "name": "stdout",
          "text": [
            "{'a', 'c', 'b'}\n"
          ]
        }
      ]
    },
    {
      "cell_type": "markdown",
      "source": [
        "17. write a code to clear all elements from the set {1, 2, 3, 4, 5}.      \n",
        ":"
      ],
      "metadata": {
        "id": "R46gjojPmDmt"
      }
    },
    {
      "cell_type": "code",
      "source": [
        "my_set={1, 2, 3, 4, 5}\n",
        "my_set.clear()\n",
        "print(my_set)\n"
      ],
      "metadata": {
        "colab": {
          "base_uri": "https://localhost:8080/"
        },
        "id": "jdsCX1CmmU-i",
        "outputId": "c820c2f9-de0c-410c-e3a3-bea14e711513"
      },
      "execution_count": 18,
      "outputs": [
        {
          "output_type": "stream",
          "name": "stdout",
          "text": [
            "set()\n"
          ]
        }
      ]
    },
    {
      "cell_type": "markdown",
      "source": [
        "18. write a code to remove the elements 4 from the set {1, 2, 3, 4}.      \n",
        ": below it in the code section\n"
      ],
      "metadata": {
        "id": "mZo6WwTwmmIc"
      }
    },
    {
      "cell_type": "code",
      "source": [
        "my_set={1, 2, 3, 4}\n",
        "my_set.remove(4)\n",
        "print(my_set)"
      ],
      "metadata": {
        "colab": {
          "base_uri": "https://localhost:8080/"
        },
        "id": "v9iZJni3m7fE",
        "outputId": "2e918f6e-c144-4f86-ff12-3ff4f453d5ff"
      },
      "execution_count": 19,
      "outputs": [
        {
          "output_type": "stream",
          "name": "stdout",
          "text": [
            "{1, 2, 3}\n"
          ]
        }
      ]
    },
    {
      "cell_type": "markdown",
      "source": [
        "19. write a code to find the union of two sets {1, 2, 3} and {3, 4, 5}.       \n",
        ": in code."
      ],
      "metadata": {
        "id": "PMCE1XV7nEmJ"
      }
    },
    {
      "cell_type": "code",
      "source": [
        "set1={1, 2, 3}\n",
        "set2={3, 4, 5}\n",
        "union_set=set1.union(set2)\n",
        "print(union_set)"
      ],
      "metadata": {
        "colab": {
          "base_uri": "https://localhost:8080/"
        },
        "id": "8Yw1iqWTnbxc",
        "outputId": "96af8eb0-fca5-42b7-e8a2-39628c90d3d5"
      },
      "execution_count": 20,
      "outputs": [
        {
          "output_type": "stream",
          "name": "stdout",
          "text": [
            "{1, 2, 3, 4, 5}\n"
          ]
        }
      ]
    },
    {
      "cell_type": "markdown",
      "source": [
        "20. write a code to find the intersection of two sets {1, 2, 3} and {2, 3, 4}.\n",
        ": in the code section."
      ],
      "metadata": {
        "id": "jisDW4dDn1We"
      }
    },
    {
      "cell_type": "code",
      "source": [
        "set1= {1, 2, 3}\n",
        "set2={2, 3, 3}\n",
        "intersection_set = set1.intersection(set2)\n",
        "print(intersection_set)"
      ],
      "metadata": {
        "colab": {
          "base_uri": "https://localhost:8080/"
        },
        "id": "0A_sGr0qoMaT",
        "outputId": "98e66bde-646d-4988-bf28-7a4cf574cf6c"
      },
      "execution_count": 21,
      "outputs": [
        {
          "output_type": "stream",
          "name": "stdout",
          "text": [
            "{2, 3}\n"
          ]
        }
      ]
    },
    {
      "cell_type": "markdown",
      "source": [
        "21. write a code to create a dictionary with the keys 'name', 'age', and 'city'and print it.      \n",
        ": in the code section."
      ],
      "metadata": {
        "id": "UA_oYv1wo5R7"
      }
    },
    {
      "cell_type": "code",
      "source": [
        "my_dict = {'name': 'Alice', 'age': 25, 'city': 'New York'}\n",
        "print(my_dict)"
      ],
      "metadata": {
        "colab": {
          "base_uri": "https://localhost:8080/"
        },
        "id": "SHEvyqW8pf7Q",
        "outputId": "494b85dd-8027-4f5a-ee62-eae1f0b601a4"
      },
      "execution_count": 22,
      "outputs": [
        {
          "output_type": "stream",
          "name": "stdout",
          "text": [
            "{'name': 'Alice', 'age': 25, 'city': 'New York'}\n"
          ]
        }
      ]
    },
    {
      "cell_type": "markdown",
      "source": [
        "22. write a code to add a new key-value pair 'country': 'USA' to the dictionary {'name':'john', 'age':25}.       \n",
        ": code?"
      ],
      "metadata": {
        "id": "rlQqmSFEpkv8"
      }
    },
    {
      "cell_type": "code",
      "source": [
        "my_dict = {'name': 'john', 'age': 25}\n",
        "my_dict['country'] = 'USA'\n",
        "print(my_dict)"
      ],
      "metadata": {
        "colab": {
          "base_uri": "https://localhost:8080/"
        },
        "id": "LUmnGWbwqKxm",
        "outputId": "48a8bb35-b2a9-4b01-8a7e-d22399298bc5"
      },
      "execution_count": 23,
      "outputs": [
        {
          "output_type": "stream",
          "name": "stdout",
          "text": [
            "{'name': 'john', 'age': 25, 'country': 'USA'}\n"
          ]
        }
      ]
    },
    {
      "cell_type": "markdown",
      "source": [
        "23. write a code to access the value associated with the key 'name' in the dictionary {'name':'agice','age':30}.        \n",
        ": in code section."
      ],
      "metadata": {
        "id": "6SE84kaSqS76"
      }
    },
    {
      "cell_type": "code",
      "source": [
        "my_dict = {'name': 'Alice', 'age': 30}\n",
        "name_value = my_dict['name']\n",
        "print(name_value)"
      ],
      "metadata": {
        "colab": {
          "base_uri": "https://localhost:8080/"
        },
        "id": "WK6C-0abqu-P",
        "outputId": "2f8fab74-9bb8-4a04-90a7-d378b1240722"
      },
      "execution_count": 25,
      "outputs": [
        {
          "output_type": "stream",
          "name": "stdout",
          "text": [
            "Alice\n"
          ]
        }
      ]
    },
    {
      "cell_type": "markdown",
      "source": [
        "24. write a code to remove the key 'age' from the dictionary {'name':'bob', 'age':22,'city:'new york'}.       \n",
        ": in code section."
      ],
      "metadata": {
        "id": "BeYYhVRwq5HT"
      }
    },
    {
      "cell_type": "code",
      "source": [
        "my_dict = {'name': 'bob', 'age': 22, 'city': 'New York'}\n",
        "del my_dict['age']\n",
        "print(my_dict)\n"
      ],
      "metadata": {
        "colab": {
          "base_uri": "https://localhost:8080/"
        },
        "id": "imgXbvWWqwOp",
        "outputId": "8e36cda9-4c29-4da1-ed53-847ca0242365"
      },
      "execution_count": 26,
      "outputs": [
        {
          "output_type": "stream",
          "name": "stdout",
          "text": [
            "{'name': 'bob', 'city': 'New York'}\n"
          ]
        }
      ]
    }
  ]
}